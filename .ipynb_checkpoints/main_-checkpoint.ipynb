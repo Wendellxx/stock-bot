{
 "cells": [
  {
   "cell_type": "code",
   "execution_count": 1,
   "metadata": {},
   "outputs": [],
   "source": [
    "import random\n",
    "import re\n",
    "import spacy\n",
    "import numpy as np\n",
    "import json\n",
    "import sqlite3\n",
    "import string\n",
    "import ast\n",
    "import Ipynb_importer\n",
    "import requests\n",
    "from rasa_nlu.training_data import load_data\n",
    "from rasa_nlu.config import RasaNLUModelConfig\n",
    "from rasa_nlu.model import Trainer\n",
    "from rasa_nlu import config"
   ]
  },
  {
   "cell_type": "code",
   "execution_count": 2,
   "metadata": {},
   "outputs": [
    {
     "data": {
      "text/plain": [
       "<sqlite3.Cursor at 0x4e9d340>"
      ]
     },
     "execution_count": 2,
     "metadata": {},
     "output_type": "execute_result"
    }
   ],
   "source": [
    "conn = sqlite3.connect('stocks.db')\n",
    "c = conn.cursor()\n",
    "c.execute(\"DROP TABLE stocks\")\n",
    "c.execute(\"CREATE TABLE IF NOT EXISTS stocks(name text, price text, location text, recommendation_level int)\")\n",
    "c.execute(\"INSERT INTO stocks(name, price, location, recommendation_level) VALUES('aapl', 'mid', 'east', 3)\")\n",
    "c.execute(\"INSERT INTO stocks(name, price, location, recommendation_level) VALUES('tsla', 'mid', 'north', 3)\")\n",
    "c.execute(\"INSERT INTO stocks(name, price, location, recommendation_level) VALUES('sed', 'hi', 'south', 5)\")\n",
    "c.execute(\"INSERT INTO stocks(name, price, location, recommendation_level) VALUES('isrg', 'lo', 'south', 2)\")\n",
    "c.execute(\"INSERT INTO stocks(name, price, location, recommendation_level) VALUES('nvr', 'hi', 'north', 4)\")\n",
    "c.execute(\"INSERT INTO stocks(name, price, location, recommendation_level) VALUES('goog', 'hi', 'west', 5)\")\n",
    "c.execute(\"INSERT INTO stocks(name, price, location, recommendation_level) VALUES('mkl', 'lo', 'center', 3)\")\n",
    "c.execute(\"commit\")"
   ]
  },
  {
   "cell_type": "code",
   "execution_count": 3,
   "metadata": {},
   "outputs": [
    {
     "name": "stdout",
     "output_type": "stream",
     "text": [
      "Fitting 2 folds for each of 6 candidates, totalling 12 fits\n"
     ]
    },
    {
     "name": "stderr",
     "output_type": "stream",
     "text": [
      "[Parallel(n_jobs=1)]: Using backend SequentialBackend with 1 concurrent workers.\n",
      "C:\\Users\\apple\\Anaconda3\\lib\\site-packages\\sklearn\\metrics\\classification.py:1143: UndefinedMetricWarning: F-score is ill-defined and being set to 0.0 in labels with no predicted samples.\n",
      "  'precision', 'predicted', average, warn_for)\n",
      "C:\\Users\\apple\\Anaconda3\\lib\\site-packages\\sklearn\\metrics\\classification.py:1143: UndefinedMetricWarning: F-score is ill-defined and being set to 0.0 in labels with no predicted samples.\n",
      "  'precision', 'predicted', average, warn_for)\n",
      "C:\\Users\\apple\\Anaconda3\\lib\\site-packages\\sklearn\\metrics\\classification.py:1143: UndefinedMetricWarning: F-score is ill-defined and being set to 0.0 in labels with no predicted samples.\n",
      "  'precision', 'predicted', average, warn_for)\n",
      "C:\\Users\\apple\\Anaconda3\\lib\\site-packages\\sklearn\\metrics\\classification.py:1143: UndefinedMetricWarning: F-score is ill-defined and being set to 0.0 in labels with no predicted samples.\n",
      "  'precision', 'predicted', average, warn_for)\n",
      "C:\\Users\\apple\\Anaconda3\\lib\\site-packages\\sklearn\\metrics\\classification.py:1143: UndefinedMetricWarning: F-score is ill-defined and being set to 0.0 in labels with no predicted samples.\n",
      "  'precision', 'predicted', average, warn_for)\n",
      "C:\\Users\\apple\\Anaconda3\\lib\\site-packages\\sklearn\\metrics\\classification.py:1143: UndefinedMetricWarning: F-score is ill-defined and being set to 0.0 in labels with no predicted samples.\n",
      "  'precision', 'predicted', average, warn_for)\n",
      "[Parallel(n_jobs=1)]: Done  12 out of  12 | elapsed:    0.1s finished\n"
     ]
    }
   ],
   "source": [
    "trainer = Trainer(config.load(\"config_spacy.yml\"))  \n",
    "training_data = load_data('demo-rasa.json')\n",
    "interpreter = trainer.train(training_data)"
   ]
  },
  {
   "cell_type": "code",
   "execution_count": 4,
   "metadata": {},
   "outputs": [],
   "source": [
    "bot_template = \"BOT : {0}\"\n",
    "user_template = \"USER : {0}\""
   ]
  },
  {
   "cell_type": "code",
   "execution_count": 377,
   "metadata": {},
   "outputs": [],
   "source": [
    "responses = { 'greet': ['Hello!', \n",
    "                       'Nice to meet you!', \n",
    "                       'Hey there!', \n",
    "                       'Hey!', \n",
    "                       'can you back that up?'], \n",
    "             'goodbye': ['Goodbye!', \n",
    "                         'Bye!',\n",
    "                         'See ya!',\n",
    "                         'farewell!' ],\n",
    "             'inquiry': ['I am a robot to help you search for stock information.', \n",
    "                         'I am a robot that can query stock information for you.'],\n",
    "             'default': ['Sorry, I could not understand you.'\n",
    "                         'Sorry, I am not sure how to help you ']\n",
    "            }\n",
    "\n",
    "responses_a = [\n",
    "    \"I'm sorry :( I couldn't find anything like that\", \n",
    "    '{} is a great stock!', \n",
    "    '{} or {} would work!', \n",
    "    '{} is one option, but I know others too :)'\n",
    "]\n",
    "\n",
    "INIT = 0\n",
    "\n",
    "\n",
    "global cpname\n",
    "\n",
    "responses_b = { 'company_search':\"OK, what kind of stock information for {0} would you like to see? \".format(cpname)\n",
    "        }\n",
    "\n",
    "def respond(message):\n",
    "    # Concatenate the user's message to the end of a standard bot respone\n",
    "    data = interpreter.parse(message)\n",
    "    intent = data[\"intent\"]['name']\n",
    "    params = {}\n",
    "    if intent in responses:\n",
    "        # Return a random matching response\n",
    "        bot_message = random.choice(responses[intent])\n",
    "    #else if: intent == \"hotel_search\"\n",
    "    elif intent == \"stock_search\":\n",
    "        response, params = respond_a(message, params)\n",
    "        bot_message = response\n",
    "    elif intent == \"company_search\":\n",
    "        params_cp = {}\n",
    "        neg_params_cp = {}\n",
    "        for ent in data[\"entities\"]:\n",
    "            params_cp[ent[\"entity\"]] = ent[\"value\"]\n",
    "            cpname =  params_cp[ent[\"entity\"]].upper()\n",
    "        bot_message = responses_b[intent]\n",
    "    else:\n",
    "        bot_message = random.choice(responses[\"default\"])\n",
    "    # Return the result\n",
    "    return bot_message\n"
   ]
  },
  {
   "cell_type": "code",
   "execution_count": 378,
   "metadata": {},
   "outputs": [],
   "source": [
    "def respond_a(message, params):\n",
    "    # Extract the entities\n",
    "    entities = interpreter.parse(message)[\"entities\"]\n",
    "    # print(entities)\n",
    "    # Fill the dictionary with entities\n",
    "    for ent in entities:\n",
    "        params[ent[\"entity\"]] = str(ent[\"value\"])\n",
    "    # Find the hotels\n",
    "    results = find_stocks(params)\n",
    "    #print(results)\n",
    "    names = [r[0] for r in results]\n",
    "    n = min(len(results), 3)\n",
    "    # Return the appropriate response\n",
    "    return responses_a[n].format(*names), params"
   ]
  },
  {
   "cell_type": "code",
   "execution_count": null,
   "metadata": {},
   "outputs": [],
   "source": []
  },
  {
   "cell_type": "code",
   "execution_count": null,
   "metadata": {},
   "outputs": [],
   "source": [
    "def find_stocks(params, neg_params):\n",
    "    query = 'SELECT * FROM stocks'\n",
    "    if len(params) > 0 and len(neg_params) > 0:\n",
    "        filters = [\"{}=?\".format(k) for k in params] + [\"{}!=?\".format(k) for k in neg_params]\n",
    "        query += \" WHERE \" + \" and \".join(filters)\n",
    "    elif len(neg_params) > 0:\n",
    "        filters = [\"{}!=?\".format(k) for k in neg_params]\n",
    "        query += \" WHERE \" + \" and \".join(filters)\n",
    "    elif len(params) > 0:\n",
    "        filters = [\"{}=?\".format(k) for k in params]\n",
    "        query += \" WHERE \" + \" and \".join(filters)\n",
    "    \n",
    "    t = tuple(dict(list(params.items()) + list(neg_params.items())).values())\n",
    "    # open connection to DB\n",
    "    conn = sqlite3.connect('stocks.db')\n",
    "    # create a cursor\n",
    "    c = conn.cursor()\n",
    "    c.execute(query, t)\n",
    "    return c.fetchall()"
   ]
  },
  {
   "cell_type": "code",
   "execution_count": null,
   "metadata": {},
   "outputs": [],
   "source": []
  },
  {
   "cell_type": "code",
   "execution_count": 379,
   "metadata": {},
   "outputs": [],
   "source": [
    "def find_stocks(params):\n",
    "    # Create the base query\n",
    "    query = 'SELECT * FROM stocks'\n",
    "    # Add filter clauses for each of the parameters\n",
    "    if len(params) > 0:\n",
    "        filters = [\"{}=?\".format(k) for k in params]\n",
    "        query += \" WHERE \" + \" and \".join(filters)\n",
    "    # Create the tuple of values\n",
    "    t = tuple(params.values())\n",
    "    # Open connection to DB\n",
    "    conn = sqlite3.connect(\"stocks.db\")\n",
    "    # Create a cursor\n",
    "    c = conn.cursor()\n",
    "    # Execute the query\n",
    "    c.execute(query, t)\n",
    "    #print(c.fetchall())\n",
    "    # Return the results\n",
    "    return c.fetchall()"
   ]
  },
  {
   "cell_type": "code",
   "execution_count": null,
   "metadata": {},
   "outputs": [],
   "source": []
  },
  {
   "cell_type": "code",
   "execution_count": null,
   "metadata": {},
   "outputs": [],
   "source": [
    "def send_message_s(policy, state, message):\n",
    "    print(\"USER : {}\".format(message))\n",
    "    new_state, response = respond(policy, state, message)\n",
    "    print(\"BOT : {}\".format(response))\n",
    "    return new_state\n",
    "\n",
    "def respond(policy, state, message):\n",
    "    (new_state, response) = policy[(state, interpret(message))]\n",
    "    return new_state, response\n",
    "\n",
    "def interpret(message):\n",
    "    msg = message.lower()\n",
    "    if 'order' in msg:\n",
    "        return 'order'\n",
    "    if 'kenyan' in msg or 'columbian' in msg:\n",
    "        return 'specify_coffee'\n",
    "    return 'none'"
   ]
  },
  {
   "cell_type": "code",
   "execution_count": null,
   "metadata": {},
   "outputs": [],
   "source": []
  },
  {
   "cell_type": "code",
   "execution_count": 380,
   "metadata": {},
   "outputs": [
    {
     "name": "stdout",
     "output_type": "stream",
     "text": [
      "USER : hello\n",
      "BOT : Hey there!\n",
      "USER : what can you do for me?\n",
      "BOT : I am a robot to help you search for stock information.\n",
      "USER : ok, I want some info an expensive stock\n",
      "BOT : sed is one option, but I know others too :)\n",
      "USER : and NOT in the north town\n",
      "BOT : tsla or nvr would work!\n",
      "USER : uh aapl, thanks\n",
      "BOT : OK, what kind of stock information for AAPL would you like to see? \n"
     ]
    }
   ],
   "source": [
    "# Define a function that sends a message to the bot: send_message\n",
    "def send_message(message):\n",
    "    # Print user_template including the user_message\n",
    "    print(user_template.format(message))\n",
    "    # Get the bot's response to the message\n",
    "    response = respond(message)\n",
    "    # Print the bot template including the bot's response.\n",
    "    print(bot_template.format(response))\n",
    "\n",
    "# Send a message to the bot\n",
    "send_message(\"hello\")\n",
    "send_message(\"what can you do for me?\")\n",
    "send_message(\"ok, I want some info an expensive stock\")\n",
    "send_message(\"and NOT in the north town\")\n",
    "send_message(\"uh aapl, thanks\")\n"
   ]
  },
  {
   "cell_type": "code",
   "execution_count": null,
   "metadata": {},
   "outputs": [],
   "source": []
  },
  {
   "cell_type": "code",
   "execution_count": null,
   "metadata": {},
   "outputs": [],
   "source": []
  }
 ],
 "metadata": {
  "kernelspec": {
   "display_name": "Python 3",
   "language": "python",
   "name": "python3"
  },
  "language_info": {
   "codemirror_mode": {
    "name": "ipython",
    "version": 3
   },
   "file_extension": ".py",
   "mimetype": "text/x-python",
   "name": "python",
   "nbconvert_exporter": "python",
   "pygments_lexer": "ipython3",
   "version": "3.7.0"
  }
 },
 "nbformat": 4,
 "nbformat_minor": 2
}
